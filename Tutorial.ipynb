{
 "cells": [
  {
   "cell_type": "markdown",
   "metadata": {},
   "source": [
    "<div>\n",
    "<img src=\"https://le-cdn.website-editor.net/4b5e1e3a4a364b689c2606ca8c78024d/dms3rep/multi/opt/Amptso-9ccb7a7a-f72ae4be-9277c828-640w.png\" width=\"250\"/>\n",
    "</div>\n",
    "\n",
    "Prepared by Nicolas Desassis\n",
    "\n",
    "This document shows how to use the main features of the *spde* module"
   ]
  },
  {
   "cell_type": "code",
   "execution_count": 1,
   "metadata": {},
   "outputs": [],
   "source": [
    "import spde"
   ]
  }
 ],
 "metadata": {
  "kernelspec": {
   "display_name": "Python 3",
   "language": "python",
   "name": "python3"
  },
  "language_info": {
   "codemirror_mode": {
    "name": "ipython",
    "version": 3
   },
   "file_extension": ".py",
   "mimetype": "text/x-python",
   "name": "python",
   "nbconvert_exporter": "python",
   "pygments_lexer": "ipython3",
   "version": "3.8.5"
  }
 },
 "nbformat": 4,
 "nbformat_minor": 4
}
